{
 "cells": [
  {
   "cell_type": "markdown",
   "id": "4d3363d2",
   "metadata": {},
   "source": [
    "#### Calculation of Distance between two points using geopy a Python library\n",
    "\n",
    "- pip install geopy\n",
    "- import the library\n",
    "\n",
    "\n"
   ]
  },
  {
   "cell_type": "code",
   "execution_count": 8,
   "id": "2043f52a-0543-464b-830d-b2ab49108799",
   "metadata": {},
   "outputs": [
    {
     "name": "stdout",
     "output_type": "stream",
     "text": [
      "Enter the latitude of point A: 22.5726\n",
      "Enter the longitude of point A: 88.3639\n",
      "Enter the latitude of point B: 28.7041\n",
      "Enter the longitude of point B: 77.1025\n",
      "\n",
      "<<<<<<< Distance using great circle >>>>>>>\n",
      "The distance between TownA & TownB is 1317.76 km\n"
     ]
    }
   ],
   "source": [
    "# Importing the great_circle module from the library\n",
    "from geopy.distance import great_circle\n",
    "\n",
    "# Loading the lat-long data for two points location\n",
    "lati1 = float(input(\"Enter the latitude of point A: \"))\n",
    "long1 = float(input(\"Enter the longitude of point A: \"))\n",
    "lati2 = float(input(\"Enter the latitude of point B: \"))\n",
    "long2 = float(input(\"Enter the longitude of point B: \"))\n",
    "townA = (lati1, long1)\n",
    "townB = (lati2, long2)\n",
    "\n",
    "#townA = (22.5726, 88.3639)\n",
    "#townB = (28.7041, 77.1025)\n",
    "\n",
    "\n",
    "# Print the distance calculated in km\n",
    "print()\n",
    "print(\"<<<<<<< Distance using great circle >>>>>>>\")\n",
    "print(\"The distance between TownA & TownB is %.2f miles\" %(great_circle(townA, townB).km))\n"
   ]
  },
  {
   "cell_type": "code",
   "execution_count": 9,
   "id": "d0835a22-3779-4c1e-8154-6e6b4db07fc6",
   "metadata": {},
   "outputs": [
    {
     "name": "stdout",
     "output_type": "stream",
     "text": [
      "Enter the latitude of point A: 22.5726\n",
      "Enter the longitude of point A: 88.3639\n",
      "Enter the latitude of point B: 28.7041\n",
      "Enter the longitude of point B: 77.1025\n",
      "\n",
      "<<<<<<< Distance using geodesic >>>>>>>\n",
      "The distance between TownA & TownB is 1318.14 miles\n"
     ]
    }
   ],
   "source": [
    "# Importing the geodesic module from the library\n",
    "from geopy.distance import geodesic\n",
    "\n",
    "# Loading the lat-long data for town points location\n",
    "lati1 = float(input(\"Enter the latitude of point A: \"))\n",
    "long1 = float(input(\"Enter the longitude of point A: \"))\n",
    "lati2 = float(input(\"Enter the latitude of point B: \"))\n",
    "long2 = float(input(\"Enter the longitude of point B: \"))\n",
    "townA = (lati1, long1)\n",
    "townB = (lati2, long2)\n",
    "\n",
    "#townA = (22.5726, 88.3639)\n",
    "#townB = (28.7041, 77.1025)\n",
    "\n",
    "\n",
    "# Print the distance calculated in km\n",
    "print()\n",
    "print(\"<<<<<<< Distance using geodesic >>>>>>>\")\n",
    "print(\"The distance between TownA & TownB is %.2f miles\" %(geodesic(townA, townB).km))\n"
   ]
  },
  {
   "cell_type": "markdown",
   "id": "ac46694c",
   "metadata": {},
   "source": [
    "#### The geolocation of a place can also query"
   ]
  },
  {
   "cell_type": "code",
   "execution_count": 12,
   "id": "00c8f070-f760-48de-bf23-b821826b34f8",
   "metadata": {},
   "outputs": [
    {
     "name": "stdout",
     "output_type": "stream",
     "text": [
      " 23 Reid Street, Westdene Bloemfontein, Free State\n",
      "Reid Street, Mangaung Ward 20, Bloemfontein, Mangaung Metropolitan Municipality, Free State, 9301, South Africa\n",
      "(-29.1067208, 26.209796)\n",
      "{'place_id': 61645074, 'licence': 'Data © OpenStreetMap contributors, ODbL 1.0. http://osm.org/copyright', 'osm_type': 'way', 'osm_id': 60012178, 'lat': '-29.1067208', 'lon': '26.209796', 'class': 'highway', 'type': 'residential', 'place_rank': 26, 'importance': 0.10000999999999993, 'addresstype': 'road', 'name': 'Reid Street', 'display_name': 'Reid Street, Mangaung Ward 20, Bloemfontein, Mangaung Metropolitan Municipality, Free State, 9301, South Africa', 'boundingbox': ['-29.1074037', '-29.1058945', '26.2057963', '26.2131013']}\n"
     ]
    }
   ],
   "source": [
    "from geopy.geocoders import Nominatim\n",
    "geolocator = Nominatim(user_agent=\"myapplication\")\n",
    "location = geolocator.geocode(input(\" \"))\n",
    "print(location.address)\n",
    "print((location.latitude, location.longitude))\n",
    "print(location.raw)"
   ]
  },
  {
   "cell_type": "code",
   "execution_count": null,
   "id": "f45c628e",
   "metadata": {},
   "outputs": [],
   "source": []
  }
 ],
 "metadata": {
  "kernelspec": {
   "display_name": "Python 3 (ipykernel)",
   "language": "python",
   "name": "python3"
  },
  "language_info": {
   "codemirror_mode": {
    "name": "ipython",
    "version": 3
   },
   "file_extension": ".py",
   "mimetype": "text/x-python",
   "name": "python",
   "nbconvert_exporter": "python",
   "pygments_lexer": "ipython3",
   "version": "3.9.7"
  }
 },
 "nbformat": 4,
 "nbformat_minor": 5
}
